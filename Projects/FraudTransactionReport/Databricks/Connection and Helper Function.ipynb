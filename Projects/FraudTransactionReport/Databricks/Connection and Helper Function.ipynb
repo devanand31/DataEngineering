{
 "cells": [
  {
   "cell_type": "code",
   "execution_count": 0,
   "metadata": {
    "application/vnd.databricks.v1+cell": {
     "cellMetadata": {
      "byteLimit": 2048000,
      "rowLimit": 10000
     },
     "inputWidgets": {},
     "nuid": "58ef5130-ec7e-4723-8cad-f85269adb223",
     "showTitle": true,
     "tableResultSettingsMap": {},
     "title": "Install pyodbc to connect to SQL DB"
    }
   },
   "outputs": [
    {
     "output_type": "stream",
     "name": "stdout",
     "output_type": "stream",
     "text": [
      "Requirement already satisfied: pyodbc in /databricks/python3/lib/python3.11/site-packages (4.0.39)\n\u001B[43mNote: you may need to restart the kernel using %restart_python or dbutils.library.restartPython() to use updated packages.\u001B[0m\n"
     ]
    }
   ],
   "source": [
    "%pip install pyodbc\n",
    "%restart_python"
   ]
  },
  {
   "cell_type": "code",
   "execution_count": 0,
   "metadata": {
    "application/vnd.databricks.v1+cell": {
     "cellMetadata": {
      "byteLimit": 2048000,
      "rowLimit": 10000
     },
     "inputWidgets": {},
     "nuid": "ca31d37f-53b9-4433-a9fc-cbf0e2d76086",
     "showTitle": true,
     "tableResultSettingsMap": {},
     "title": "Set properties for SQL DB Connections"
    }
   },
   "outputs": [],
   "source": [
    "hostname = \"dev-anand-sql-server.database.windows.net\"\n",
    "jdbc_port = \"1433\"\n",
    "database = \"dev-anand-sql-db\"\n",
    "username = \"databricks_user\"\n",
    "password = \"<<encrypted>>\"\n",
    "jdbc_url = f\"jdbc:sqlserver://{hostname}:{jdbc_port};database={database};encrypt=true;trustServerCertificate=false;loginTimeout=30;\"\n",
    "\n",
    "connection_properties = {\n",
    "    \"user\": username,\n",
    "    \"password\": password,\n",
    "    \"driver\": \"com.microsoft.sqlserver.jdbc.SQLServerDriver\"\n",
    "}"
   ]
  },
  {
   "cell_type": "code",
   "execution_count": 0,
   "metadata": {
    "application/vnd.databricks.v1+cell": {
     "cellMetadata": {
      "byteLimit": 2048000,
      "rowLimit": 10000
     },
     "inputWidgets": {},
     "nuid": "d8e36f9b-8372-49d2-95e3-332078ccd350",
     "showTitle": true,
     "tableResultSettingsMap": {},
     "title": "Mount the ADLS if the mount point does not exist"
    }
   },
   "outputs": [],
   "source": [
    "mounts = [i.mountPoint for i in dbutils.fs.mounts()]\n",
    "if '/mnt/adlslanding' in mounts:\n",
    "    pass\n",
    "else:\n",
    "    configs = {\"fs.azure.account.key.devanandgen2storage.blob.core.windows.net\": \"<<encrypted>>\"}\n",
    "    dbutils.fs.mount(\n",
    "    source=\"wasbs://landing@devanandgen2storage.blob.core.windows.net/\",\n",
    "    mount_point=\"/mnt/adlslanding\",\n",
    "    extra_configs=configs)"
   ]
  },
  {
   "cell_type": "code",
   "execution_count": 0,
   "metadata": {
    "application/vnd.databricks.v1+cell": {
     "cellMetadata": {
      "byteLimit": 2048000,
      "rowLimit": 10000
     },
     "inputWidgets": {},
     "nuid": "b05c5ff4-2ca6-4aaf-8812-e97f76d9fb4a",
     "showTitle": true,
     "tableResultSettingsMap": {},
     "title": "Install ODBC Driver 17 for SQL Server to trigger queries from databricks"
    }
   },
   "outputs": [
    {
     "output_type": "stream",
     "name": "stdout",
     "output_type": "stream",
     "text": [
      "Downloading Microsoft signing key...\n"
     ]
    },
    {
     "output_type": "stream",
     "name": "stderr",
     "output_type": "stream",
     "text": [
      "  % Total    % Received % Xferd  Average Speed   Time    Time     Time  Current\n                                 Dload  Upload   Total   Spent    Left  Speed\n\r  0     0    0     0    0     0      0      0 --:--:-- --:--:-- --:--:--     0\r100   983  100   983    0     0  18316      0 --:--:-- --:--:-- --:--:-- 18547\nWarning: apt-key is deprecated. Manage keyring files in trusted.gpg.d instead (see apt-key(8)).\n"
     ]
    },
    {
     "output_type": "stream",
     "name": "stdout",
     "output_type": "stream",
     "text": [
      "OK\nAdding Microsoft repository...\n"
     ]
    },
    {
     "output_type": "stream",
     "name": "stderr",
     "output_type": "stream",
     "text": [
      "  % Total    % Received % Xferd  Average Speed   Time    Time     Time  Current\n                                 Dload  Upload   Total   Spent    Left  Speed\n\r  0     0    0     0    0     0      0      0 --:--:-- --:--:-- --:--:--     0\r100    88  100    88    0     0   1728      0 --:--:-- --:--:-- --:--:--  1760\n"
     ]
    },
    {
     "output_type": "stream",
     "name": "stdout",
     "output_type": "stream",
     "text": [
      "deb [arch=amd64,armhf,arm64] https://packages.microsoft.com/ubuntu/22.04/prod jammy mainUpdating package index again...\nHit:1 https://packages.microsoft.com/ubuntu/22.04/prod jammy InRelease\nHit:2 https://repos.azul.com/zulu/deb stable InRelease\nHit:3 http://archive.ubuntu.com/ubuntu jammy InRelease\nHit:4 http://archive.ubuntu.com/ubuntu jammy-updates InRelease\nHit:5 http://security.ubuntu.com/ubuntu jammy-security InRelease\nHit:6 http://archive.ubuntu.com/ubuntu jammy-backports InRelease\nReading package lists...\n"
     ]
    },
    {
     "output_type": "stream",
     "name": "stderr",
     "output_type": "stream",
     "text": [
      "W: https://packages.microsoft.com/ubuntu/22.04/prod/dists/jammy/InRelease: Key is stored in legacy trusted.gpg keyring (/etc/apt/trusted.gpg), see the DEPRECATION section in apt-key(8) for details.\nW: https://repos.azul.com/zulu/deb/dists/stable/InRelease: Key is stored in legacy trusted.gpg keyring (/etc/apt/trusted.gpg), see the DEPRECATION section in apt-key(8) for details.\n"
     ]
    },
    {
     "output_type": "stream",
     "name": "stdout",
     "output_type": "stream",
     "text": [
      "Installing ODBC Driver 17...\nReading package lists...\nBuilding dependency tree...\nReading state information...\nmsodbcsql17 is already the newest version (17.10.6.1-1).\n0 upgraded, 0 newly installed, 0 to remove and 66 not upgraded.\nReading package lists...\nBuilding dependency tree...\nReading state information...\nunixodbc-dev is already the newest version (2.3.9-5ubuntu0.1).\n0 upgraded, 0 newly installed, 0 to remove and 66 not upgraded.\nChecking installed driver...\n/.\n/opt\n/opt/microsoft\n/opt/microsoft/msodbcsql17\n/opt/microsoft/msodbcsql17/include\n/opt/microsoft/msodbcsql17/include/msodbcsql.h\n/opt/microsoft/msodbcsql17/share\n/opt/microsoft/msodbcsql17/share/resources\n/opt/microsoft/msodbcsql17/share/resources/en_US\n/opt/microsoft/msodbcsql17/share/resources/en_US/msodbcsqlr17.rll\n/opt/microsoft/msodbcsql17/etc\n/opt/microsoft/msodbcsql17/etc/odbcinst.ini\n/opt/microsoft/msodbcsql17/lib64\n/opt/microsoft/msodbcsql17/lib64/libmsodbcsql-17.10.so.6.1\n/usr\n/usr/lib\n/usr/share\n/usr/share/doc\n/usr/share/doc/msodbcsql17\n/usr/share/doc/msodbcsql17/RELEASE_NOTES\n/usr/share/doc/msodbcsql17/LICENSE.txt\n/usr/lib64\n/usr/lib/libmsodbcsql-17.so\n/usr/lib64/libmsodbcsql-17.so\nODBC Driver installation completed successfully.\n"
     ]
    }
   ],
   "source": [
    "%sh\n",
    "#!/bin/bash\n",
    "# Download the Microsoft signing key\n",
    "echo \"Downloading Microsoft signing key...\"\n",
    "curl https://packages.microsoft.com/keys/microsoft.asc | sudo apt-key add -\n",
    "# Add the Microsoft repository for ODBC Driver 18\n",
    "echo \"Adding Microsoft repository...\"\n",
    "curl https://packages.microsoft.com/config/ubuntu/$(lsb_release -rs)/prod.list | sudo tee /etc/apt/sources.list.d/mssql-release.list\n",
    "# Update the package index\n",
    "echo \"Updating package index again...\"\n",
    "sudo apt-get update\n",
    "# Install the ODBC Driver 17\n",
    "echo \"Installing ODBC Driver 17...\"\n",
    "sudo ACCEPT_EULA=Y apt-get install -y msodbcsql17\n",
    "# Install oDBC Driver Manager\n",
    "# echo \"Installing ODBC Driver manager ...\"\n",
    "sudo apt-get -y install unixodbc-dev\n",
    "# Check if the driver is installed\n",
    "echo \"Checking installed driver...\"\n",
    "dpkg -L msodbcsql17\n",
    "echo \"ODBC Driver installation completed successfully.\""
   ]
  },
  {
   "cell_type": "code",
   "execution_count": 0,
   "metadata": {
    "application/vnd.databricks.v1+cell": {
     "cellMetadata": {
      "byteLimit": 2048000,
      "rowLimit": 10000
     },
     "inputWidgets": {},
     "nuid": "2e3144d3-736f-478d-8298-0d438d7f61c4",
     "showTitle": true,
     "tableResultSettingsMap": {},
     "title": "Function that accepts query strings and execute in SQL DB"
    }
   },
   "outputs": [],
   "source": [
    "import pyodbc\n",
    "\n",
    "driver = '{ODBC Driver 17 for SQL Server}'\n",
    "\n",
    "def executeQuery(queryString):\n",
    "    conn = pyodbc.connect(f\"DRIVER={driver};SERVER={hostname};DATABASE={database};UID={username};PWD={password}\")\n",
    "    cursor = conn.cursor()\n",
    "\n",
    "    cursor.execute(queryString)\n",
    "    conn.commit()\n",
    "\n",
    "    cursor.close()\n",
    "    conn.close()\n"
   ]
  }
 ],
 "metadata": {
  "application/vnd.databricks.v1+notebook": {
   "computePreferences": null,
   "dashboards": [],
   "environmentMetadata": {
    "base_environment": "",
    "environment_version": "2"
   },
   "language": "python",
   "notebookMetadata": {
    "mostRecentlyExecutedCommandWithImplicitDF": {
     "commandId": 5919716149669558,
     "dataframes": [
      "_sqldf"
     ]
    },
    "pythonIndentUnit": 4
   },
   "notebookName": "Connection and Helper Function",
   "widgets": {}
  },
  "language_info": {
   "name": "python"
  }
 },
 "nbformat": 4,
 "nbformat_minor": 0
}