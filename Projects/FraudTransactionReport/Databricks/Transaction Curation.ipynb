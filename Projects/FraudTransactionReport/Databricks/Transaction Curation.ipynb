{
 "cells": [
  {
   "cell_type": "code",
   "execution_count": 0,
   "metadata": {
    "application/vnd.databricks.v1+cell": {
     "cellMetadata": {
      "byteLimit": 2048000,
      "rowLimit": 10000
     },
     "inputWidgets": {},
     "nuid": "053d796a-bf97-4ac4-b891-ed3834e592f5",
     "showTitle": true,
     "tableResultSettingsMap": {},
     "title": "Initializing connection details"
    }
   },
   "outputs": [
    {
     "output_type": "stream",
     "name": "stdout",
     "output_type": "stream",
     "text": [
      "Requirement already satisfied: pyodbc in /databricks/python3/lib/python3.11/site-packages (4.0.39)\n\u001B[43mNote: you may need to restart the kernel using %restart_python or dbutils.library.restartPython() to use updated packages.\u001B[0m\n"
     ]
    }
   ],
   "source": [
    "%run \"/Workspace/Shared/Connection and Helper Function\""
   ]
  },
  {
   "cell_type": "code",
   "execution_count": 0,
   "metadata": {
    "application/vnd.databricks.v1+cell": {
     "cellMetadata": {
      "byteLimit": 2048000,
      "rowLimit": 10000
     },
     "inputWidgets": {},
     "nuid": "45109129-6c4f-4c40-9172-6456e6946cfe",
     "showTitle": true,
     "tableResultSettingsMap": {},
     "title": "Importing required libraries"
    }
   },
   "outputs": [
    {
     "output_type": "stream",
     "name": "stdout",
     "output_type": "stream",
     "text": [
      "Downloading Microsoft signing key...\n"
     ]
    },
    {
     "output_type": "stream",
     "name": "stderr",
     "output_type": "stream",
     "text": [
      "  % Total    % Received % Xferd  Average Speed   Time    Time     Time  Current\n                                 Dload  Upload   Total   Spent    Left  Speed\n\r  0     0    0     0    0     0      0      0 --:--:-- --:--:-- --:--:--     0\r100   983  100   983    0     0  13608      0 --:--:-- --:--:-- --:--:-- 13652\nWarning: apt-key is deprecated. Manage keyring files in trusted.gpg.d instead (see apt-key(8)).\n"
     ]
    },
    {
     "output_type": "stream",
     "name": "stdout",
     "output_type": "stream",
     "text": [
      "OK\nAdding Microsoft repository...\n"
     ]
    },
    {
     "output_type": "stream",
     "name": "stderr",
     "output_type": "stream",
     "text": [
      "  % Total    % Received % Xferd  Average Speed   Time    Time     Time  Current\n                                 Dload  Upload   Total   Spent    Left  Speed\n\r  0     0    0     0    0     0      0      0 --:--:-- --:--:-- --:--:--     0\r100    88  100    88    0     0   1728      0 --:--:-- --:--:-- --:--:--  1760\n"
     ]
    },
    {
     "output_type": "stream",
     "name": "stdout",
     "output_type": "stream",
     "text": [
      "deb [arch=amd64,armhf,arm64] https://packages.microsoft.com/ubuntu/22.04/prod jammy mainUpdating package index again...\nHit:1 https://packages.microsoft.com/ubuntu/22.04/prod jammy InRelease\nHit:2 https://repos.azul.com/zulu/deb stable InRelease\nHit:3 http://security.ubuntu.com/ubuntu jammy-security InRelease\nHit:4 http://archive.ubuntu.com/ubuntu jammy InRelease\nHit:5 http://archive.ubuntu.com/ubuntu jammy-updates InRelease\nHit:6 http://archive.ubuntu.com/ubuntu jammy-backports InRelease\nReading package lists...\n"
     ]
    },
    {
     "output_type": "stream",
     "name": "stderr",
     "output_type": "stream",
     "text": [
      "W: https://packages.microsoft.com/ubuntu/22.04/prod/dists/jammy/InRelease: Key is stored in legacy trusted.gpg keyring (/etc/apt/trusted.gpg), see the DEPRECATION section in apt-key(8) for details.\nW: https://repos.azul.com/zulu/deb/dists/stable/InRelease: Key is stored in legacy trusted.gpg keyring (/etc/apt/trusted.gpg), see the DEPRECATION section in apt-key(8) for details.\n"
     ]
    },
    {
     "output_type": "stream",
     "name": "stdout",
     "output_type": "stream",
     "text": [
      "Installing ODBC Driver 17...\nReading package lists...\nBuilding dependency tree...\nReading state information...\nmsodbcsql17 is already the newest version (17.10.6.1-1).\n0 upgraded, 0 newly installed, 0 to remove and 66 not upgraded.\nReading package lists...\nBuilding dependency tree...\nReading state information...\nunixodbc-dev is already the newest version (2.3.9-5ubuntu0.1).\n0 upgraded, 0 newly installed, 0 to remove and 66 not upgraded.\nChecking installed driver...\n/.\n/opt\n/opt/microsoft\n/opt/microsoft/msodbcsql17\n/opt/microsoft/msodbcsql17/include\n/opt/microsoft/msodbcsql17/include/msodbcsql.h\n/opt/microsoft/msodbcsql17/share\n/opt/microsoft/msodbcsql17/share/resources\n/opt/microsoft/msodbcsql17/share/resources/en_US\n/opt/microsoft/msodbcsql17/share/resources/en_US/msodbcsqlr17.rll\n/opt/microsoft/msodbcsql17/etc\n/opt/microsoft/msodbcsql17/etc/odbcinst.ini\n/opt/microsoft/msodbcsql17/lib64\n/opt/microsoft/msodbcsql17/lib64/libmsodbcsql-17.10.so.6.1\n/usr\n/usr/lib\n/usr/share\n/usr/share/doc\n/usr/share/doc/msodbcsql17\n/usr/share/doc/msodbcsql17/RELEASE_NOTES\n/usr/share/doc/msodbcsql17/LICENSE.txt\n/usr/lib64\n/usr/lib/libmsodbcsql-17.so\n/usr/lib64/libmsodbcsql-17.so\nODBC Driver installation completed successfully.\n"
     ]
    },
    {
     "output_type": "stream",
     "name": "stdout",
     "output_type": "stream",
     "text": [
      "[ODBC Driver 17 for SQL Server]\n"
     ]
    }
   ],
   "source": [
    "from pyspark.sql.functions import when, col, lit, current_date, year, coalesce"
   ]
  },
  {
   "cell_type": "code",
   "execution_count": 0,
   "metadata": {
    "application/vnd.databricks.v1+cell": {
     "cellMetadata": {
      "byteLimit": 2048000,
      "rowLimit": 10000
     },
     "inputWidgets": {},
     "nuid": "fd9aa953-572e-4c6a-abad-3568e7b60494",
     "showTitle": true,
     "tableResultSettingsMap": {},
     "title": "Read the load date widget"
    }
   },
   "outputs": [],
   "source": [
    "load_date = dbutils.widgets.get('load_date')"
   ]
  },
  {
   "cell_type": "code",
   "execution_count": 0,
   "metadata": {
    "application/vnd.databricks.v1+cell": {
     "cellMetadata": {
      "byteLimit": 2048000,
      "rowLimit": 10000
     },
     "inputWidgets": {},
     "nuid": "d7f977d2-2340-4bd8-a540-f41ba2c47e05",
     "showTitle": true,
     "tableResultSettingsMap": {},
     "title": "Read the raw transaction data"
    }
   },
   "outputs": [],
   "source": [
    "transaction_raw = spark.read.format('parquet').load(f'/mnt/adlslanding/credit_transactions/{load_date}')"
   ]
  },
  {
   "cell_type": "code",
   "execution_count": 0,
   "metadata": {
    "application/vnd.databricks.v1+cell": {
     "cellMetadata": {
      "byteLimit": 2048000,
      "rowLimit": 10000
     },
     "inputWidgets": {},
     "nuid": "d0c3f522-9d96-4492-bda9-d2e5684c0e3a",
     "showTitle": true,
     "tableResultSettingsMap": {},
     "title": "Clean up the data"
    }
   },
   "outputs": [],
   "source": [
    "transaction_cleaned = transaction_raw.filter(col('TransactionID').isNotNull() & col('CustomerID').isNotNull() & col('CityID').isNotNull() & col('PaymentType').isNotNull() & col('TransactionDate').isNotNull()).withColumn('Amount',coalesce(col('Amount'),lit('0')).cast('float')).withColumn('Status',coalesce(col('Status'),lit('Failed')))"
   ]
  },
  {
   "cell_type": "code",
   "execution_count": 0,
   "metadata": {
    "application/vnd.databricks.v1+cell": {
     "cellMetadata": {
      "byteLimit": 2048000,
      "rowLimit": 10000
     },
     "inputWidgets": {},
     "nuid": "0c441168-295d-4e06-8fe6-cf4fc1d24b89",
     "showTitle": true,
     "tableResultSettingsMap": {},
     "title": "Read the customer data from the master table"
    }
   },
   "outputs": [],
   "source": [
    "customers_table = \"(SELECT * FROM CURATED.CUSTOMER WHERE ACTIVE_IND='Y') AS tmp\"\n",
    "\n",
    "customers_df = spark.read \\\n",
    "    .format(\"jdbc\") \\\n",
    "    .option(\"url\", jdbc_url) \\\n",
    "    .option(\"dbtable\", customers_table) \\\n",
    "    .option(\"user\", username) \\\n",
    "    .option(\"password\", password) \\\n",
    "    .option(\"driver\", \"com.microsoft.sqlserver.jdbc.SQLServerDriver\") \\\n",
    "    .load()"
   ]
  },
  {
   "cell_type": "code",
   "execution_count": 0,
   "metadata": {
    "application/vnd.databricks.v1+cell": {
     "cellMetadata": {
      "byteLimit": 2048000,
      "rowLimit": 10000
     },
     "inputWidgets": {},
     "nuid": "6f5e0e75-e33c-4e99-9d44-fd908857840a",
     "showTitle": true,
     "tableResultSettingsMap": {},
     "title": "Read the city data from the master table"
    }
   },
   "outputs": [],
   "source": [
    "city_distance_table = \"(SELECT * FROM CURATED.CITY_DISTANCE) AS tmp\"\n",
    "\n",
    "city_distance_df = spark.read \\\n",
    "    .format(\"jdbc\") \\\n",
    "    .option(\"url\", jdbc_url) \\\n",
    "    .option(\"dbtable\", city_distance_table) \\\n",
    "    .option(\"user\", username) \\\n",
    "    .option(\"password\", password) \\\n",
    "    .option(\"driver\", \"com.microsoft.sqlserver.jdbc.SQLServerDriver\") \\\n",
    "    .load()"
   ]
  },
  {
   "cell_type": "code",
   "execution_count": 0,
   "metadata": {
    "application/vnd.databricks.v1+cell": {
     "cellMetadata": {
      "byteLimit": 2048000,
      "rowLimit": 10000
     },
     "inputWidgets": {},
     "nuid": "e1f6cefc-bfed-4daf-890d-bf9c140e5367",
     "showTitle": true,
     "tableResultSettingsMap": {},
     "title": "Logic to get the city in which transaction happened and the actual customer city"
    }
   },
   "outputs": [],
   "source": [
    "transaction_with_customer_city = transaction_cleaned.join(customers_df, transaction_cleaned.CustomerID == customers_df.CUSTOMER_ID, 'left').select(transaction_cleaned.TransactionID, transaction_cleaned.CustomerID, transaction_cleaned.CityID, transaction_cleaned.Amount, transaction_cleaned.PaymentType, transaction_cleaned.Status, transaction_cleaned.TransactionDate, customers_df.CITY_ID).withColumnRenamed('CityID','TRANSACTION_CITY_ID').withColumnRenamed('CITY_ID','CUSTOMER_CITY_ID')"
   ]
  },
  {
   "cell_type": "code",
   "execution_count": 0,
   "metadata": {
    "application/vnd.databricks.v1+cell": {
     "cellMetadata": {
      "byteLimit": 2048000,
      "rowLimit": 10000
     },
     "inputWidgets": {},
     "nuid": "cd2bfdaf-38c1-4635-a2c6-9369682642c4",
     "showTitle": true,
     "tableResultSettingsMap": {},
     "title": "Logic to get the distance between city in which transaction happened and customer city"
    }
   },
   "outputs": [],
   "source": [
    "calculated_distance = transaction_with_customer_city.join(city_distance_df, (transaction_with_customer_city.TRANSACTION_CITY_ID == city_distance_df.CITY_ID_TO) & (transaction_with_customer_city.CUSTOMER_CITY_ID == city_distance_df.CITY_ID), 'left').withColumnRenamed('TransactionID','TRANSACTION_ID').withColumnRenamed('CustomerID','CUSTOMER_ID').withColumnRenamed('Amount','AMOUNT').withColumnRenamed('PaymentType','PAYMENT_TYPE').withColumnRenamed('Status','STATUS').withColumnRenamed('TransactionDate','TRANSACTION_DATE').withColumnRenamed('DISTANCE','TRANSACTION_DISTANCE').drop('CITY_ID','CITY_NAME','CITY_NAME_TO')"
   ]
  },
  {
   "cell_type": "code",
   "execution_count": 0,
   "metadata": {
    "application/vnd.databricks.v1+cell": {
     "cellMetadata": {
      "byteLimit": 2048000,
      "rowLimit": 10000
     },
     "inputWidgets": {},
     "nuid": "110a579c-9428-4cf3-bab4-c2b56439c008",
     "showTitle": true,
     "tableResultSettingsMap": {},
     "title": "Logic to determine the fraud criticality"
    }
   },
   "outputs": [],
   "source": [
    "fraud_criticality = calculated_distance.withColumn('FRAUD_CRITICALITY',when(col('TRANSACTION_DISTANCE')==0,lit('NIL')).when((col('TRANSACTION_DISTANCE')>0) & (col('TRANSACTION_DISTANCE')<500),'LOW').when((col('TRANSACTION_DISTANCE')>=500) & (col('TRANSACTION_DISTANCE')<1000),'MEDIUM').when(col('TRANSACTION_DISTANCE')>=1000,'HIGH').otherwise('UNKNOWN')).withColumn('TRANSACTION_CITY_ID',col('TRANSACTION_CITY_ID').cast('int')).withColumn('CUSTOMER_CITY_ID',col('CUSTOMER_CITY_ID').cast('int'))"
   ]
  },
  {
   "cell_type": "code",
   "execution_count": 0,
   "metadata": {
    "application/vnd.databricks.v1+cell": {
     "cellMetadata": {
      "byteLimit": 2048000,
      "rowLimit": 10000
     },
     "inputWidgets": {},
     "nuid": "ebae92e5-e2d7-4631-9d7f-ccf6770071c2",
     "showTitle": false,
     "tableResultSettingsMap": {},
     "title": ""
    }
   },
   "outputs": [],
   "source": [
    "executeQuery(f\"DELETE FROM CURATED.CREDIT_TRANSACTIONS WHERE TRANSACTION_DATE = '{load_date.replace('/','-')}'\")"
   ]
  },
  {
   "cell_type": "code",
   "execution_count": 0,
   "metadata": {
    "application/vnd.databricks.v1+cell": {
     "cellMetadata": {
      "byteLimit": 2048000,
      "rowLimit": 10000
     },
     "inputWidgets": {},
     "nuid": "625f318a-3637-4c90-b957-20cb30430e8e",
     "showTitle": true,
     "tableResultSettingsMap": {},
     "title": "Load the incremental data to the table"
    }
   },
   "outputs": [],
   "source": [
    "fraud_criticality.write.jdbc(url=jdbc_url, table=\"CURATED.CREDIT_TRANSACTIONS\", mode=\"append\", properties=connection_properties)"
   ]
  },
  {
   "cell_type": "code",
   "execution_count": 0,
   "metadata": {
    "application/vnd.databricks.v1+cell": {
     "cellMetadata": {},
     "inputWidgets": {},
     "nuid": "9a61eb46-d1ba-4e73-8d78-d5b7e0573cdd",
     "showTitle": false,
     "tableResultSettingsMap": {},
     "title": ""
    }
   },
   "outputs": [],
   "source": [
    "dbutils.notebook.exit(fraud_criticality.count())"
   ]
  }
 ],
 "metadata": {
  "application/vnd.databricks.v1+notebook": {
   "computePreferences": null,
   "dashboards": [],
   "environmentMetadata": {
    "base_environment": "",
    "environment_version": "2"
   },
   "language": "python",
   "notebookMetadata": {
    "mostRecentlyExecutedCommandWithImplicitDF": {
     "commandId": 8264944859590346,
     "dataframes": [
      "_sqldf"
     ]
    },
    "pythonIndentUnit": 4
   },
   "notebookName": "Transaction Curation",
   "widgets": {
    "load_date": {
     "currentValue": "2025/02/15",
     "nuid": "da061434-74b1-4cbb-bb8e-6a699169e0c6",
     "typedWidgetInfo": {
      "autoCreated": false,
      "defaultValue": "",
      "label": "Load Date",
      "name": "load_date",
      "options": {
       "widgetDisplayType": "Text",
       "validationRegex": null
      },
      "parameterDataType": "String"
     },
     "widgetInfo": {
      "widgetType": "text",
      "defaultValue": "",
      "label": "Load Date",
      "name": "load_date",
      "options": {
       "widgetType": "text",
       "autoCreated": null,
       "validationRegex": null
      }
     }
    }
   }
  },
  "language_info": {
   "name": "python"
  }
 },
 "nbformat": 4,
 "nbformat_minor": 0
}