{
 "cells": [
  {
   "cell_type": "code",
   "execution_count": 0,
   "metadata": {
    "application/vnd.databricks.v1+cell": {
     "cellMetadata": {
      "byteLimit": 2048000,
      "rowLimit": 10000
     },
     "inputWidgets": {},
     "nuid": "ea54a50f-0b12-42e0-a77a-dbe2d4ed81ea",
     "showTitle": true,
     "tableResultSettingsMap": {},
     "title": "Initializing connection details"
    }
   },
   "outputs": [],
   "source": [
    "%run \"/Workspace/Shared/Connection and Helper Function\""
   ]
  },
  {
   "cell_type": "code",
   "execution_count": 0,
   "metadata": {
    "application/vnd.databricks.v1+cell": {
     "cellMetadata": {
      "byteLimit": 2048000,
      "rowLimit": 10000
     },
     "inputWidgets": {},
     "nuid": "56a78c83-319f-42d8-a003-0ed21ec398a0",
     "showTitle": true,
     "tableResultSettingsMap": {},
     "title": "Importing required libraries"
    }
   },
   "outputs": [],
   "source": [
    "from pyspark.sql.functions import when, col, lit, current_date, year, coalesce"
   ]
  },
  {
   "cell_type": "markdown",
   "metadata": {
    "application/vnd.databricks.v1+cell": {
     "cellMetadata": {
      "byteLimit": 2048000,
      "rowLimit": 10000
     },
     "inputWidgets": {},
     "nuid": "3abfdfed-1f27-440f-862b-38dc19bc5464",
     "showTitle": false,
     "tableResultSettingsMap": {},
     "title": ""
    }
   },
   "source": [
    "### Customer Data Curation"
   ]
  },
  {
   "cell_type": "code",
   "execution_count": 0,
   "metadata": {
    "application/vnd.databricks.v1+cell": {
     "cellMetadata": {
      "byteLimit": 2048000,
      "rowLimit": 10000
     },
     "inputWidgets": {},
     "nuid": "db7b8c1e-33b9-4331-b24d-ab458badcf52",
     "showTitle": true,
     "tableResultSettingsMap": {},
     "title": "Read customer raw data"
    }
   },
   "outputs": [],
   "source": [
    "customers_raw = spark.read.format('parquet').load('/mnt/adlslanding/customers/')"
   ]
  },
  {
   "cell_type": "code",
   "execution_count": 0,
   "metadata": {
    "application/vnd.databricks.v1+cell": {
     "cellMetadata": {
      "byteLimit": 2048000,
      "rowLimit": 10000
     },
     "inputWidgets": {},
     "nuid": "70180e60-3028-4111-b73b-5c6a1520c302",
     "showTitle": true,
     "tableResultSettingsMap": {},
     "title": "Clean up the customer data"
    }
   },
   "outputs": [],
   "source": [
    "customers_cleaned = customers_raw.filter(col('CustomerID').isNotNull() & col('Name').isNotNull() & col('Email').isNotNull() & col('CityID').isNotNull() & col('BirthYear').isNotNull() & col('Gender').isNotNull() & col('SignupDate').isNotNull()).withColumn('SignupDate',col('SignupDate').cast('date'))"
   ]
  },
  {
   "cell_type": "code",
   "execution_count": 0,
   "metadata": {
    "application/vnd.databricks.v1+cell": {
     "cellMetadata": {
      "byteLimit": 2048000,
      "rowLimit": 10000
     },
     "inputWidgets": {},
     "nuid": "e2097d70-57aa-451f-993c-d947a84846e3",
     "showTitle": true,
     "tableResultSettingsMap": {},
     "title": "Create Age Group column and drop unrequired column"
    }
   },
   "outputs": [],
   "source": [
    "customers_current_day = customers_cleaned.withColumn('Age', year(current_date())-col('BirthYear').cast('int')).withColumn('AgeGroup', when(col('Age')<25, 'Under 25').when(col('Age')<45, '25-44').when(col('Age')<65, '45-64').otherwise('Over 65').alias('AgeGroup')).drop('Age','BirthYear')"
   ]
  },
  {
   "cell_type": "code",
   "execution_count": 0,
   "metadata": {
    "application/vnd.databricks.v1+cell": {
     "cellMetadata": {
      "byteLimit": 2048000,
      "rowLimit": 10000
     },
     "inputWidgets": {},
     "nuid": "ebf9c5ec-60c2-4f4f-8e9e-1de57f6bfb5e",
     "showTitle": true,
     "tableResultSettingsMap": {},
     "title": "Reading existing customer data from SQL DB"
    }
   },
   "outputs": [],
   "source": [
    "customers_table = \"(SELECT * FROM CURATED.CUSTOMER) AS tmp\"\n",
    "\n",
    "customers_existing = spark.read \\\n",
    "    .format(\"jdbc\") \\\n",
    "    .option(\"url\", jdbc_url) \\\n",
    "    .option(\"dbtable\", customers_table) \\\n",
    "    .option(\"user\", username) \\\n",
    "    .option(\"password\", password) \\\n",
    "    .option(\"driver\", \"com.microsoft.sqlserver.jdbc.SQLServerDriver\") \\\n",
    "    .load()"
   ]
  },
  {
   "cell_type": "code",
   "execution_count": 0,
   "metadata": {
    "application/vnd.databricks.v1+cell": {
     "cellMetadata": {
      "byteLimit": 2048000,
      "rowLimit": 10000
     },
     "inputWidgets": {},
     "nuid": "842b8cb4-236e-4ce9-a23c-3785beba9b08",
     "showTitle": true,
     "tableResultSettingsMap": {},
     "title": "Split the existing active and inactive customers"
    }
   },
   "outputs": [],
   "source": [
    "customers_existing_inactive = customers_existing.filter(col('ACTIVE_IND')=='N')\n",
    "customers_existing_active = customers_existing.filter(col('ACTIVE_IND')=='Y')"
   ]
  },
  {
   "cell_type": "code",
   "execution_count": 0,
   "metadata": {
    "application/vnd.databricks.v1+cell": {
     "cellMetadata": {
      "byteLimit": 2048000,
      "rowLimit": 10000
     },
     "inputWidgets": {},
     "nuid": "1940171d-0d0d-4453-849e-0522ead69373",
     "showTitle": true,
     "tableResultSettingsMap": {},
     "title": "Join existing and new data to identity changed, unchanged and new records"
    }
   },
   "outputs": [],
   "source": [
    "customer_current_existing_join = customers_current_day.join(customers_existing_active, (customers_current_day['CustomerID']==customers_existing_active['CUSTOMER_ID']) & (customers_existing_active['NAME']==customers_current_day['Name']) & (customers_existing_active['EMAIL']==customers_current_day['Email']) & (customers_existing_active['CITY_ID']==customers_current_day['CityID']) & (customers_existing_active['AGE_GROUP']==customers_current_day['AgeGroup']), 'left_outer')"
   ]
  },
  {
   "cell_type": "code",
   "execution_count": 0,
   "metadata": {
    "application/vnd.databricks.v1+cell": {
     "cellMetadata": {
      "byteLimit": 2048000,
      "rowLimit": 10000
     },
     "inputWidgets": {},
     "nuid": "36310d16-6e0a-4926-a523-1a44ed941b58",
     "showTitle": true,
     "tableResultSettingsMap": {},
     "title": "Create dataframe for new and changed active record"
    }
   },
   "outputs": [],
   "source": [
    "customers_new_changed_activate = customer_current_existing_join.filter(customers_existing_active['CUSTOMER_ID'].isNull())\\\n",
    "        .select(customers_current_day['CustomerID'],customers_current_day['Name'],customers_current_day['Email'],customers_current_day['CityID'],customers_current_day['Gender'],customers_current_day['SignupDate'],customers_current_day['AgeGroup'])\\\n",
    "        .withColumnRenamed('CustomerID','CUSTOMER_ID').withColumnRenamed('Name','NAME').withColumnRenamed('Email','EMAIL').withColumnRenamed('CityID','CITY_ID').withColumnRenamed('Gender','GENDER').withColumnRenamed('SignupDate','SIGNUP_DATE').withColumnRenamed('AgeGroup','AGE_GROUP')\\\n",
    "        .withColumn('EFFECTIVE_START_DATE',current_date()).withColumn('EFFECTIVE_END_DATE',lit(None).cast('date')).withColumn('ACTIVE_IND',lit('Y'))"
   ]
  },
  {
   "cell_type": "code",
   "execution_count": 0,
   "metadata": {
    "application/vnd.databricks.v1+cell": {
     "cellMetadata": {
      "byteLimit": 2048000,
      "rowLimit": 10000
     },
     "inputWidgets": {},
     "nuid": "744d1d0c-4ff8-4d2c-bfe9-bdd270a3df5d",
     "showTitle": true,
     "tableResultSettingsMap": {},
     "title": "Create dataframe for unchanged record"
    }
   },
   "outputs": [],
   "source": [
    "customers_unchanged = customer_current_existing_join.filter(customers_existing_active['CUSTOMER_ID'].isNotNull())\\\n",
    "        .select(customers_existing_active['CUSTOMER_ID'],customers_existing_active['NAME'],customers_existing_active['EMAIL'],customers_existing_active['CITY_ID'],customers_existing_active['GENDER'],customers_existing_active['SIGNUP_DATE'],customers_existing_active['AGE_GROUP'],customers_existing_active['EFFECTIVE_START_DATE'],customers_existing_active['EFFECTIVE_END_DATE'],customers_existing_active['ACTIVE_IND'])"
   ]
  },
  {
   "cell_type": "code",
   "execution_count": 0,
   "metadata": {
    "application/vnd.databricks.v1+cell": {
     "cellMetadata": {
      "byteLimit": 2048000,
      "rowLimit": 10000
     },
     "inputWidgets": {},
     "nuid": "6e21db97-9f6b-4910-aee2-d8f9e4cd4ec2",
     "showTitle": true,
     "tableResultSettingsMap": {},
     "title": "Create dataframe for changed and deleted inactive records"
    }
   },
   "outputs": [],
   "source": [
    "customers_deleted_changed_inactivate = customers_existing_active.filter(col('ACTIVE_IND')=='Y').join(customers_current_day, customers_existing_active.CUSTOMER_ID==customers_current_day.CustomerID, 'left_outer')\\\n",
    "    .filter((customers_existing_active['NAME']!=coalesce(customers_current_day['Name'],lit(''))) \n",
    "                                   | (customers_existing_active['EMAIL']!=coalesce(customers_current_day['Email'],lit('')))\n",
    "                                   | (customers_existing_active['CITY_ID']!=coalesce(customers_current_day['CityID'],lit(''))) \n",
    "                                   | (customers_existing_active['AGE_GROUP']!=coalesce(customers_current_day['AgeGroup'],lit(''))))\\\n",
    "    .select(customers_existing_active['CUSTOMER_ID'],customers_existing_active['NAME'],customers_existing_active['EMAIL'],customers_existing_active['CITY_ID'],customers_existing_active['GENDER'],customers_existing_active['SIGNUP_DATE'],customers_existing_active['AGE_GROUP'],customers_existing_active['EFFECTIVE_START_DATE'])\\\n",
    "    .withColumn('EFFECTIVE_END_DATE',lit(current_date())).withColumn('ACTIVE_IND',lit('N'))"
   ]
  },
  {
   "cell_type": "code",
   "execution_count": 0,
   "metadata": {
    "application/vnd.databricks.v1+cell": {
     "cellMetadata": {
      "byteLimit": 2048000,
      "rowLimit": 10000
     },
     "inputWidgets": {},
     "nuid": "34b9a662-8a2b-4b37-b7fb-3decb8f515f6",
     "showTitle": true,
     "tableResultSettingsMap": {},
     "title": "Union all the dataframes"
    }
   },
   "outputs": [],
   "source": [
    "customer_final = customers_new_changed_activate.union(customers_deleted_changed_inactivate).union(customers_existing_inactive).union(customers_unchanged)"
   ]
  },
  {
   "cell_type": "code",
   "execution_count": 0,
   "metadata": {
    "application/vnd.databricks.v1+cell": {
     "cellMetadata": {
      "byteLimit": 2048000,
      "rowLimit": 10000
     },
     "inputWidgets": {},
     "nuid": "e2e996f0-f236-4846-98cb-ff3ecdb8bec2",
     "showTitle": true,
     "tableResultSettingsMap": {},
     "title": "Overwrite the Customer table"
    }
   },
   "outputs": [],
   "source": [
    "customer_final.write.jdbc(url=jdbc_url, table=\"CURATED.CUSTOMER\", mode=\"overwrite\", properties=connection_properties)"
   ]
  },
  {
   "cell_type": "markdown",
   "metadata": {
    "application/vnd.databricks.v1+cell": {
     "cellMetadata": {
      "byteLimit": 2048000,
      "rowLimit": 10000
     },
     "inputWidgets": {},
     "nuid": "cf3274df-9414-46ad-af15-96a2bf375cd7",
     "showTitle": false,
     "tableResultSettingsMap": {},
     "title": ""
    }
   },
   "source": [
    "### Cities Curation"
   ]
  },
  {
   "cell_type": "code",
   "execution_count": 0,
   "metadata": {
    "application/vnd.databricks.v1+cell": {
     "cellMetadata": {
      "byteLimit": 2048000,
      "rowLimit": 10000
     },
     "inputWidgets": {},
     "nuid": "df13fc53-af5f-4731-9ee4-1526ad2d038f",
     "showTitle": true,
     "tableResultSettingsMap": {},
     "title": "Read Cities raw data"
    }
   },
   "outputs": [],
   "source": [
    "cities_raw = spark.read.format('parquet').load('/mnt/adlslanding/cities/')"
   ]
  },
  {
   "cell_type": "code",
   "execution_count": 0,
   "metadata": {
    "application/vnd.databricks.v1+cell": {
     "cellMetadata": {
      "byteLimit": 2048000,
      "rowLimit": 10000
     },
     "inputWidgets": {},
     "nuid": "a7f7b8c8-72e8-499b-aa3e-90d5751b14b1",
     "showTitle": true,
     "tableResultSettingsMap": {},
     "title": "Clean up the City data"
    }
   },
   "outputs": [],
   "source": [
    "cities_cleaned = cities_raw.filter(col('CityID_1').isNotNull() & col('CityName_1').isNotNull() & col('CityID_2').isNotNull() & col('CityName_2').isNotNull() & col('Distance_km').isNotNull())"
   ]
  },
  {
   "cell_type": "code",
   "execution_count": 0,
   "metadata": {
    "application/vnd.databricks.v1+cell": {
     "cellMetadata": {
      "byteLimit": 2048000,
      "rowLimit": 10000
     },
     "inputWidgets": {},
     "nuid": "728357b6-9925-458e-8e1d-d0b812075408",
     "showTitle": true,
     "tableResultSettingsMap": {},
     "title": "Prepare the City data for load"
    }
   },
   "outputs": [],
   "source": [
    "cities_final = cities_cleaned.withColumnRenamed('CityID_1','CITY_ID').withColumnRenamed('CityName_1','CITY_NAME').withColumnRenamed('CityName_2','CITY_NAME_TO').withColumnRenamed('CityID_2','CITY_ID_TO').withColumnRenamed('Distance_km','DISTANCE').withColumn('CITY_ID',col('CITY_ID').cast('int')).withColumn('CITY_ID_TO',col('CITY_ID_TO').cast('int')).withColumn('DISTANCE',col('DISTANCE').cast('float'))"
   ]
  },
  {
   "cell_type": "code",
   "execution_count": 0,
   "metadata": {
    "application/vnd.databricks.v1+cell": {
     "cellMetadata": {
      "byteLimit": 2048000,
      "rowLimit": 10000
     },
     "inputWidgets": {},
     "nuid": "0b590bd6-a85f-4057-a6b5-106d7de2af09",
     "showTitle": true,
     "tableResultSettingsMap": {},
     "title": "Load the city data to the master table"
    }
   },
   "outputs": [],
   "source": [
    "cities_final.write.jdbc(url=jdbc_url, table=\"CURATED.CITY_DISTANCE\", mode=\"overwrite\", properties=connection_properties)"
   ]
  },
  {
   "cell_type": "code",
   "execution_count": 0,
   "metadata": {
    "application/vnd.databricks.v1+cell": {
     "cellMetadata": {
      "byteLimit": 2048000,
      "rowLimit": 10000
     },
     "inputWidgets": {},
     "nuid": "46dc02e9-b47b-4725-b155-61860266ba00",
     "showTitle": false,
     "tableResultSettingsMap": {},
     "title": ""
    }
   },
   "outputs": [],
   "source": [
    "dbutils.notebook.exit(customer_final.count()+cities_final.count())"
   ]
  }
 ],
 "metadata": {
  "application/vnd.databricks.v1+notebook": {
   "computePreferences": null,
   "dashboards": [],
   "environmentMetadata": {
    "base_environment": "",
    "environment_version": "2"
   },
   "language": "python",
   "notebookMetadata": {
    "mostRecentlyExecutedCommandWithImplicitDF": {
     "commandId": 8264944859590329,
     "dataframes": [
      "_sqldf"
     ]
    },
    "pythonIndentUnit": 4
   },
   "notebookName": "Master Table Curation",
   "widgets": {}
  },
  "language_info": {
   "name": "python"
  }
 },
 "nbformat": 4,
 "nbformat_minor": 0
}